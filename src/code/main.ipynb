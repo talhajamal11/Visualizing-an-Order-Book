{
 "cells": [
  {
   "cell_type": "code",
   "execution_count": 1,
   "metadata": {},
   "outputs": [],
   "source": [
    "\"\"\"\n",
    "This file downloads order book data and reconstructs the order book for data visualization\n",
    "\"\"\"\n",
    "\n",
    "# Import relevant modules\n",
    "from downloadLobsterData import download_lobster_data"
   ]
  },
  {
   "cell_type": "code",
   "execution_count": 3,
   "metadata": {},
   "outputs": [],
   "source": [
    "lobster_url = \"https://lobsterdata.com/info/sample/\"\n",
    "lobster_data_path = \"/Users/talhajamal/Documents/Coding Practice/Python Projects/Visualizing-an-Order-Book/src/data/lobster/\"\n",
    "lobster_folders = [\"LOBSTER_SampleFile_AMZN_2012-06-21_1.zip\", \n",
    "                    \"LOBSTER_SampleFile_AMZN_2012-06-21_5.zip\",\n",
    "                    \"LOBSTER_SampleFile_AMZN_2012-06-21_10.zip\",\n",
    "                    \"LOBSTER_SampleFile_AAPL_2012-06-21_1.zip\",\n",
    "                    \"LOBSTER_SampleFile_AAPL_2012-06-21_5.zip\",\n",
    "                    \"LOBSTER_SampleFile_AAPL_2012-06-21_10.zip\",\n",
    "                    \"LOBSTER_SampleFile_GOOG_2012-06-21_1.zip\",\n",
    "                    \"LOBSTER_SampleFile_GOOG_2012-06-21_5.zip\",\n",
    "                    \"LOBSTER_SampleFile_GOOG_2012-06-21_10.zip\",\n",
    "                    \"LOBSTER_SampleFile_INTC_2012-06-21_1.zip\",\n",
    "                    \"LOBSTER_SampleFile_INTC_2012-06-21_5.zip\",\n",
    "                    \"LOBSTER_SampleFile_INTC_2012-06-21_10.zip\",\n",
    "                    \"LOBSTER_SampleFile_MSFT_2012-06-21_1.zip\",\n",
    "                    \"LOBSTER_SampleFile_MSFT_2012-06-21_5.zip\",\n",
    "                    \"LOBSTER_SampleFile_MSFT_2012-06-21_10.zip\",\n",
    "                    \"LOBSTER_SampleFile_AAPL_2012-06-21_30.zip\",\n",
    "                    \"LOBSTER_SampleFile_AAPL_2012-06-21_50.zip\",\n",
    "                    \"LOBSTER_SampleFile_MSFT_2012-06-21_30.zip\",\n",
    "                    \"LOBSTER_SampleFile_MSFT_2012-06-21_50.zip\",\n",
    "                    \"LOBSTER_SampleFile_SPY_2012-06-21_30.zip\",\n",
    "                    \"LOBSTER_SampleFile_SPY_2012-06-21_50.zip\"\n",
    "                    ]"
   ]
  },
  {
   "cell_type": "code",
   "execution_count": 4,
   "metadata": {},
   "outputs": [
    {
     "name": "stdout",
     "output_type": "stream",
     "text": [
      "Directory for Lobster Data exists\n",
      "Renamed Folder AMZN_2012-06-21_1 already exist...\n",
      "Renamed Folder AMZN_2012-06-21_5 already exist...\n",
      "Renamed Folder AMZN_2012-06-21_10 already exist...\n",
      "Renamed Folder AAPL_2012-06-21_1 already exist...\n",
      "Renamed Folder AAPL_2012-06-21_5 already exist...\n",
      "Renamed Folder AAPL_2012-06-21_10 already exist...\n",
      "Renamed Folder GOOG_2012-06-21_1 already exist...\n",
      "Renamed Folder GOOG_2012-06-21_5 already exist...\n",
      "Renamed Folder GOOG_2012-06-21_10 already exist...\n",
      "Renamed Folder INTC_2012-06-21_1 already exist...\n",
      "Renamed Folder INTC_2012-06-21_5 already exist...\n",
      "Renamed Folder INTC_2012-06-21_10 already exist...\n",
      "Renamed Folder MSFT_2012-06-21_1 already exist...\n",
      "Renamed Folder MSFT_2012-06-21_5 already exist...\n",
      "Renamed Folder MSFT_2012-06-21_10 already exist...\n",
      "Renamed Folder AAPL_2012-06-21_30 already exist...\n",
      "Renamed Folder AAPL_2012-06-21_50 already exist...\n",
      "Renamed Folder MSFT_2012-06-21_30 already exist...\n",
      "Renamed Folder MSFT_2012-06-21_50 already exist...\n",
      "Renamed Folder SPY_2012-06-21_30 already exist...\n",
      "Renamed Folder SPY_2012-06-21_50 already exist...\n"
     ]
    }
   ],
   "source": [
    "# Download, Unzip and Delete Zip Files\n",
    "download_lobster_data(lobster_url, lobster_data_path, lobster_folders)"
   ]
  },
  {
   "cell_type": "code",
   "execution_count": null,
   "metadata": {},
   "outputs": [],
   "source": []
  }
 ],
 "metadata": {
  "kernelspec": {
   "display_name": "Python 3",
   "language": "python",
   "name": "python3"
  },
  "language_info": {
   "codemirror_mode": {
    "name": "ipython",
    "version": 3
   },
   "file_extension": ".py",
   "mimetype": "text/x-python",
   "name": "python",
   "nbconvert_exporter": "python",
   "pygments_lexer": "ipython3",
   "version": "3.11.3"
  },
  "orig_nbformat": 4
 },
 "nbformat": 4,
 "nbformat_minor": 2
}
