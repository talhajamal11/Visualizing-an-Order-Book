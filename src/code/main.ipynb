{
 "cells": [
  {
   "cell_type": "markdown",
   "metadata": {},
   "source": [
    "# Order Book Visualizer\n",
    "\n",
    "LOBSTER is an academic resource that generates a 'message' and an 'orderbook' file for each active trading day of a selected ticker. The 'orderbook' file contains the evolution of the limit order book up to the requested number of levels. The 'message' file contains indicators for the type of event causing an update of the limit order book in the requested price range. All events are timestamped to seconds after midnight, with decimal precision of at least milliseconds and up to nanoseconds depending on the requested period. \n",
    "\n",
    "\n",
    "\tMessage File:\t\t(Matrix of size: (Nx6))\n",
    "\t-------------\t\n",
    "\t\t\n",
    "\t\tStartTime and EndTime give the theoretical beginning \n",
    "\t\tand end time of the output file in milliseconds after \t\t\n",
    "\t\tmid night. LEVEL refers to the number of levels of the \n",
    "\t\trequested limit order book.\n",
    "\n",
    "\n",
    "\tColumns:\n",
    "\t\n",
    "\t    1.) Time: \t\t\n",
    "\t\t\t\tSeconds after midnight with decimal \n",
    "\t\t\t\tprecision of at least milliseconds \n",
    "\t\t\t\tand up to nanoseconds depending on \n",
    "\t\t\t\tthe requested period\n",
    "\t    2.) Event Type:\n",
    "\t\t\t\t1: Submission of a new limit order\n",
    "\t\t\t\t2: Cancellation (Partial deletion \n",
    "\t\t\t       of a limit order)\n",
    "\t\t\t\t3: Deletion (Total deletion of a limit order)\n",
    "\t\t\t\t4: Execution of a visible limit order\t\t\t   \t \n",
    "\t\t\t\t5: Execution of a hidden limit order\n",
    "\t\t\t\t7: Trading halt indicator \t\t\t\t   \n",
    "\t\t\t       (Detailed information below)\n",
    "\t    3.) Order ID: \t\n",
    "\t\t\t\tUnique order reference number \n",
    "\t\t\t\t(Assigned in order flow)\n",
    "\t    4.) Size: \t\t\n",
    "\t\t\t\tNumber of shares\n",
    "\t    5.) Price: \t\t\n",
    "\t\t\t\tDollar price times 10000 \n",
    "\t\t\t\t(i.e., A stock price of $91.14 is given \n",
    "\t\t\t\tby 911400)\n",
    "\t    6.) Direction:\n",
    "\t\t\t\t-1: Sell limit order\n",
    "\t\t\t\t1: Buy limit order\n",
    "\t\t\t\t\n",
    "\t\t\t\tNote: \n",
    "\t\t\t\tExecution of a sell (buy) limit\n",
    "\t\t\t\torder corresponds to a buyer (seller) \n",
    "\t\t\t\tinitiated trade, i.e. Buy (Sell) trade.\n",
    "\t\t\t\t\t\t\t\t\t\t\n",
    "\t\t\t\t\t\t\n",
    "\tOrderbook File:\t\t(Matrix of size: (Nx(4xNumberOfLevels)))\n",
    "\t---------------\n",
    "\t\n",
    "\tColumns:\n",
    "\t\n",
    " \t    1.) Ask Price 1: \tLevel 1 Ask Price \t(Best Ask)\n",
    "\t    2.) Ask Size 1: \tLevel 1 Ask Volume \t(Best Ask Volume)\n",
    "\t    3.) Bid Price 1: \tLevel 1 Bid Price \t(Best Bid)\n",
    "\t    4.) Bid Size 1: \tLevel 1 Bid Volume \t(Best Bid Volume)\n",
    "\t    5.) Ask Price 2: \tLevel 2 Ask Price \t(2nd Best Ask)\n",
    "\t    ..."
   ]
  },
  {
   "cell_type": "code",
   "execution_count": 1,
   "metadata": {},
   "outputs": [],
   "source": [
    "\"\"\"\n",
    "This file downloads order book data and reconstructs the order book for data visualization\n",
    "\"\"\"\n",
    "\n",
    "# Import relevant modules\n",
    "from downloadLobsterData import download_lobster_data"
   ]
  },
  {
   "cell_type": "code",
   "execution_count": 2,
   "metadata": {},
   "outputs": [],
   "source": [
    "lobster_url = \"https://lobsterdata.com/info/sample/\"\n",
    "lobster_data_path = \"/Users/talhajamal/Documents/Coding Practice/Python Projects/Visualizing-an-Order-Book/src/data/lobster/\"\n",
    "lobster_folders = [\"LOBSTER_SampleFile_AMZN_2012-06-21_1.zip\", \n",
    "                    \"LOBSTER_SampleFile_AMZN_2012-06-21_5.zip\",\n",
    "                    \"LOBSTER_SampleFile_AMZN_2012-06-21_10.zip\",\n",
    "                    \"LOBSTER_SampleFile_AAPL_2012-06-21_1.zip\",\n",
    "                    \"LOBSTER_SampleFile_AAPL_2012-06-21_5.zip\",\n",
    "                    \"LOBSTER_SampleFile_AAPL_2012-06-21_10.zip\",\n",
    "                    \"LOBSTER_SampleFile_GOOG_2012-06-21_1.zip\",\n",
    "                    \"LOBSTER_SampleFile_GOOG_2012-06-21_5.zip\",\n",
    "                    \"LOBSTER_SampleFile_GOOG_2012-06-21_10.zip\",\n",
    "                    \"LOBSTER_SampleFile_INTC_2012-06-21_1.zip\",\n",
    "                    \"LOBSTER_SampleFile_INTC_2012-06-21_5.zip\",\n",
    "                    \"LOBSTER_SampleFile_INTC_2012-06-21_10.zip\",\n",
    "                    \"LOBSTER_SampleFile_MSFT_2012-06-21_1.zip\",\n",
    "                    \"LOBSTER_SampleFile_MSFT_2012-06-21_5.zip\",\n",
    "                    \"LOBSTER_SampleFile_MSFT_2012-06-21_10.zip\",\n",
    "                    \"LOBSTER_SampleFile_AAPL_2012-06-21_30.zip\",\n",
    "                    \"LOBSTER_SampleFile_AAPL_2012-06-21_50.zip\",\n",
    "                    \"LOBSTER_SampleFile_MSFT_2012-06-21_30.zip\",\n",
    "                    \"LOBSTER_SampleFile_MSFT_2012-06-21_50.zip\",\n",
    "                    \"LOBSTER_SampleFile_SPY_2012-06-21_30.zip\",\n",
    "                    \"LOBSTER_SampleFile_SPY_2012-06-21_50.zip\"\n",
    "                    ]"
   ]
  },
  {
   "cell_type": "code",
   "execution_count": 3,
   "metadata": {},
   "outputs": [
    {
     "name": "stdout",
     "output_type": "stream",
     "text": [
      "Directory for Lobster Data exists\n",
      "Renamed Folder AMZN_2012-06-21_1 already exist...\n",
      "Renamed Folder AMZN_2012-06-21_5 already exist...\n",
      "Renamed Folder AMZN_2012-06-21_10 already exist...\n",
      "Renamed Folder AAPL_2012-06-21_1 already exist...\n",
      "Renamed Folder AAPL_2012-06-21_5 already exist...\n",
      "Renamed Folder AAPL_2012-06-21_10 already exist...\n",
      "Renamed Folder GOOG_2012-06-21_1 already exist...\n",
      "Renamed Folder GOOG_2012-06-21_5 already exist...\n",
      "Renamed Folder GOOG_2012-06-21_10 already exist...\n",
      "Renamed Folder INTC_2012-06-21_1 already exist...\n",
      "Renamed Folder INTC_2012-06-21_5 already exist...\n",
      "Renamed Folder INTC_2012-06-21_10 already exist...\n",
      "Renamed Folder MSFT_2012-06-21_1 already exist...\n",
      "Renamed Folder MSFT_2012-06-21_5 already exist...\n",
      "Renamed Folder MSFT_2012-06-21_10 already exist...\n",
      "Renamed Folder AAPL_2012-06-21_30 already exist...\n",
      "Renamed Folder AAPL_2012-06-21_50 already exist...\n",
      "Renamed Folder MSFT_2012-06-21_30 already exist...\n",
      "Renamed Folder MSFT_2012-06-21_50 already exist...\n",
      "Renamed Folder SPY_2012-06-21_30 already exist...\n",
      "Renamed Folder SPY_2012-06-21_50 already exist...\n"
     ]
    }
   ],
   "source": [
    "# Download, Unzip and Delete Zip Files\n",
    "download_lobster_data(lobster_url, lobster_data_path, lobster_folders)"
   ]
  },
  {
   "cell_type": "code",
   "execution_count": null,
   "metadata": {},
   "outputs": [],
   "source": []
  }
 ],
 "metadata": {
  "kernelspec": {
   "display_name": "Python 3",
   "language": "python",
   "name": "python3"
  },
  "language_info": {
   "codemirror_mode": {
    "name": "ipython",
    "version": 3
   },
   "file_extension": ".py",
   "mimetype": "text/x-python",
   "name": "python",
   "nbconvert_exporter": "python",
   "pygments_lexer": "ipython3",
   "version": "3.11.3"
  },
  "orig_nbformat": 4
 },
 "nbformat": 4,
 "nbformat_minor": 2
}
